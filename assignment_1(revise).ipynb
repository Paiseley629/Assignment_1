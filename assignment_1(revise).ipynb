{
 "cells": [
  {
   "cell_type": "code",
   "execution_count": 10,
   "id": "a0cf5151",
   "metadata": {},
   "outputs": [
    {
     "name": "stdout",
     "output_type": "stream",
     "text": [
      "EnterWeek1's coding hours:27\n",
      "EnterWeek1's reading hours:20\n",
      "EnterWeek1's sports hours:15\n",
      "EnterWeek2's coding hours:30\n",
      "EnterWeek2's reading hours:25\n",
      "EnterWeek2's sports hours:28\n",
      "EnterWeek3's coding hours:26\n",
      "EnterWeek3's reading hours:22\n",
      "EnterWeek3's sports hours:19\n",
      "EnterWeek4's coding hours:24\n",
      "EnterWeek4's reading hours:26\n",
      "EnterWeek4's sports hours:22\n",
      "[{'Weeks': 'Week1', 'Coding': '27', 'Reading': '20', 'Sports': '15'}, {'Weeks': 'Week2', 'Coding': '30', 'Reading': '25', 'Sports': '28'}, {'Weeks': 'Week3', 'Coding': '26', 'Reading': '22', 'Sports': '19'}, {'Weeks': 'Week4', 'Coding': '24', 'Reading': '26', 'Sports': '22'}]\n"
     ]
    },
    {
     "data": {
      "text/html": [
       "<div>\n",
       "<style scoped>\n",
       "    .dataframe tbody tr th:only-of-type {\n",
       "        vertical-align: middle;\n",
       "    }\n",
       "\n",
       "    .dataframe tbody tr th {\n",
       "        vertical-align: top;\n",
       "    }\n",
       "\n",
       "    .dataframe thead th {\n",
       "        text-align: right;\n",
       "    }\n",
       "</style>\n",
       "<table border=\"1\" class=\"dataframe\">\n",
       "  <thead>\n",
       "    <tr style=\"text-align: right;\">\n",
       "      <th></th>\n",
       "      <th>Weeks</th>\n",
       "      <th>Coding</th>\n",
       "      <th>Reading</th>\n",
       "      <th>Sports</th>\n",
       "    </tr>\n",
       "  </thead>\n",
       "  <tbody>\n",
       "    <tr>\n",
       "      <th>0</th>\n",
       "      <td>Week1</td>\n",
       "      <td>27</td>\n",
       "      <td>20</td>\n",
       "      <td>15</td>\n",
       "    </tr>\n",
       "    <tr>\n",
       "      <th>1</th>\n",
       "      <td>Week2</td>\n",
       "      <td>30</td>\n",
       "      <td>25</td>\n",
       "      <td>28</td>\n",
       "    </tr>\n",
       "    <tr>\n",
       "      <th>2</th>\n",
       "      <td>Week3</td>\n",
       "      <td>26</td>\n",
       "      <td>22</td>\n",
       "      <td>19</td>\n",
       "    </tr>\n",
       "    <tr>\n",
       "      <th>3</th>\n",
       "      <td>Week4</td>\n",
       "      <td>24</td>\n",
       "      <td>26</td>\n",
       "      <td>22</td>\n",
       "    </tr>\n",
       "  </tbody>\n",
       "</table>\n",
       "</div>"
      ],
      "text/plain": [
       "   Weeks Coding Reading Sports\n",
       "0  Week1     27      20     15\n",
       "1  Week2     30      25     28\n",
       "2  Week3     26      22     19\n",
       "3  Week4     24      26     22"
      ]
     },
     "execution_count": 10,
     "metadata": {},
     "output_type": "execute_result"
    }
   ],
   "source": [
    "import pandas as pd\n",
    "weekly_hour = []\n",
    "weeks = ['Week1','Week2','Week3','Week4']\n",
    "for i in weeks:\n",
    "    coding = input(\"Enter\" + i + \"'s coding hours:\")\n",
    "    reading = input(\"Enter\" + i + \"'s reading hours:\")\n",
    "    sports = input(\"Enter\" + i + \"'s sports hours:\")\n",
    "\n",
    "    weekly_hour.append({'Weeks':i,'Coding':coding,'Reading':reading,'Sports':sports})\n",
    "print(weekly_hour)\n",
    "df = pd.DataFrame(weekly_hour)\n",
    "df.to_csv('weekly_hour.csv',mode='w',index=False)\n",
    "df"
   ]
  },
  {
   "cell_type": "code",
   "execution_count": 11,
   "id": "e57c2540",
   "metadata": {},
   "outputs": [
    {
     "name": "stdout",
     "output_type": "stream",
     "text": [
      "Task List: \n",
      " [['Week1', 27, 20, 15], ['Week2', 30, 25, 28], ['Week3', 26, 22, 19], ['Week4', 24, 26, 22]]\n",
      "19.0\n",
      "22.33\n",
      "20.33\n",
      "20.0\n",
      "[19.0, 22.33, 20.33, 20.0]\n",
      "Weeks: ['Week1', 'Week2', 'Week3', 'Week4'] \n",
      "\n",
      "Coding: [27, 30, 26, 24] \n",
      "\n",
      "Reading: [20, 25, 22, 26] \n",
      "\n",
      "Sports: [15, 28, 19, 22] \n",
      "\n",
      "total_avg: [19.0, 22.33, 20.33, 20.0] \n",
      "\n"
     ]
    },
    {
     "data": {
      "image/png": "[encoded data removed]",
      "text/plain": [
       "<Figure size 432x288 with 1 Axes>"
      ]
     },
     "metadata": {
      "needs_background": "light"
     },
     "output_type": "display_data"
    }
   ],
   "source": [
    "import pandas as pd\n",
    "from matplotlib import pyplot as plt\n",
    "df = pd.read_csv('weekly_hour.csv')\n",
    "df\n",
    "task_list = df.values.tolist()\n",
    "print(\"Task List:\",\"\\n\",task_list)\n",
    "weeks = []\n",
    "coding = []\n",
    "reading = []\n",
    "sports = []\n",
    "for i in task_list:\n",
    "    weeks.append(i[0])\n",
    "    coding.append(i[1])\n",
    "    reading.append(i[2])\n",
    "    sports.append(i[3])\n",
    "\n",
    "t1 = [30, 20, 7]\n",
    "t2 = [28, 30, 9]\n",
    "t3 = [20, 26, 15]\n",
    "t4 = [25, 22, 13]\n",
    "\n",
    "n1 = 0\n",
    "for t in t1:\n",
    "    n1 += t\n",
    "    avg_time1 = round((n1/3),2)\n",
    "print(avg_time1)\n",
    "n2 = 0\n",
    "for t in t2:\n",
    "    n2 += t\n",
    "    avg_time2 = round((n2/3),2)\n",
    "print(avg_time2)    \n",
    "n3 = 0\n",
    "for t in t3:\n",
    "    n3 += t\n",
    "    avg_time3 = round((n3/3),2)\n",
    "print(avg_time3)\n",
    "n4 = 0\n",
    "for t in t4:\n",
    "    n4 += t\n",
    "    avg_time4 = round((n4/3),2)\n",
    "print(avg_time4)\n",
    "\n",
    "total_avg = [avg_time1,avg_time2,avg_time3,avg_time4]\n",
    "print(total_avg)\n",
    "\n",
    "print(\"Weeks:\",weeks,\"\\n\")\n",
    "print(\"Coding:\",coding,\"\\n\")\n",
    "print(\"Reading:\",reading,\"\\n\")\n",
    "print(\"Sports:\",sports,\"\\n\")\n",
    "print(\"total_avg:\",total_avg,\"\\n\")\n",
    "plt.plot(weeks, coding, color='green',marker='s')\n",
    "plt.plot(weeks, reading, color='gray',marker='s')\n",
    "plt.plot(weeks, sports, color='red',marker='s')\n",
    "plt.plot(weeks, total_avg, color='pink',linestyle='--')\n",
    "plt.legend(['coding', 'reading', 'sports','total_avg'])\n",
    "plt.xlabel(\"Weeks\")\n",
    "plt.ylabel(\"Hours\")\n",
    "plt.title('Weekly Tasks')\n",
    "plt.show()\n",
    "\n"
   ]
  }
 ],
 "metadata": {
  "kernelspec": {
   "display_name": "Python 3",
   "language": "python",
   "name": "python3"
  },
  "language_info": {
   "codemirror_mode": {
    "name": "ipython",
    "version": 3
   },
   "file_extension": ".py",
   "mimetype": "text/x-python",
   "name": "python",
   "nbconvert_exporter": "python",
   "pygments_lexer": "ipython3",
   "version": "3.8.8"
  }
 },
 "nbformat": 4,
 "nbformat_minor": 5
}
